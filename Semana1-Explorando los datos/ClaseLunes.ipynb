{
 "cells": [
  {
   "cell_type": "code",
   "execution_count": 8,
   "id": "0810069a",
   "metadata": {},
   "outputs": [],
   "source": [
    "#importar librerias\n",
    "import pandas as pd\n",
    "import numpy as np\n"
   ]
  },
  {
   "cell_type": "code",
   "execution_count": 50,
   "id": "1d2113e4",
   "metadata": {},
   "outputs": [],
   "source": [
    "#cargamos los datos\n",
    "df = pd.read_csv(\"StudentsPerformance.csv\")"
   ]
  },
  {
   "cell_type": "code",
   "execution_count": 12,
   "id": "0a88407a",
   "metadata": {},
   "outputs": [
    {
     "data": {
      "text/html": [
       "<div>\n",
       "<style scoped>\n",
       "    .dataframe tbody tr th:only-of-type {\n",
       "        vertical-align: middle;\n",
       "    }\n",
       "\n",
       "    .dataframe tbody tr th {\n",
       "        vertical-align: top;\n",
       "    }\n",
       "\n",
       "    .dataframe thead th {\n",
       "        text-align: right;\n",
       "    }\n",
       "</style>\n",
       "<table border=\"1\" class=\"dataframe\">\n",
       "  <thead>\n",
       "    <tr style=\"text-align: right;\">\n",
       "      <th></th>\n",
       "      <th>gender</th>\n",
       "      <th>race/ethnicity</th>\n",
       "      <th>parental level of education</th>\n",
       "      <th>lunch</th>\n",
       "      <th>test preparation course</th>\n",
       "      <th>math score</th>\n",
       "      <th>reading score</th>\n",
       "      <th>writing score</th>\n",
       "    </tr>\n",
       "  </thead>\n",
       "  <tbody>\n",
       "    <tr>\n",
       "      <th>0</th>\n",
       "      <td>female</td>\n",
       "      <td>group B</td>\n",
       "      <td>bachelor's degree</td>\n",
       "      <td>standard</td>\n",
       "      <td>none</td>\n",
       "      <td>72</td>\n",
       "      <td>72</td>\n",
       "      <td>74</td>\n",
       "    </tr>\n",
       "    <tr>\n",
       "      <th>1</th>\n",
       "      <td>female</td>\n",
       "      <td>group C</td>\n",
       "      <td>some college</td>\n",
       "      <td>standard</td>\n",
       "      <td>completed</td>\n",
       "      <td>69</td>\n",
       "      <td>90</td>\n",
       "      <td>88</td>\n",
       "    </tr>\n",
       "    <tr>\n",
       "      <th>2</th>\n",
       "      <td>female</td>\n",
       "      <td>group B</td>\n",
       "      <td>master's degree</td>\n",
       "      <td>standard</td>\n",
       "      <td>none</td>\n",
       "      <td>90</td>\n",
       "      <td>95</td>\n",
       "      <td>93</td>\n",
       "    </tr>\n",
       "    <tr>\n",
       "      <th>3</th>\n",
       "      <td>male</td>\n",
       "      <td>group A</td>\n",
       "      <td>associate's degree</td>\n",
       "      <td>free/reduced</td>\n",
       "      <td>none</td>\n",
       "      <td>47</td>\n",
       "      <td>57</td>\n",
       "      <td>44</td>\n",
       "    </tr>\n",
       "    <tr>\n",
       "      <th>4</th>\n",
       "      <td>male</td>\n",
       "      <td>group C</td>\n",
       "      <td>some college</td>\n",
       "      <td>standard</td>\n",
       "      <td>none</td>\n",
       "      <td>76</td>\n",
       "      <td>78</td>\n",
       "      <td>75</td>\n",
       "    </tr>\n",
       "  </tbody>\n",
       "</table>\n",
       "</div>"
      ],
      "text/plain": [
       "   gender race/ethnicity parental level of education         lunch  \\\n",
       "0  female        group B           bachelor's degree      standard   \n",
       "1  female        group C                some college      standard   \n",
       "2  female        group B             master's degree      standard   \n",
       "3    male        group A          associate's degree  free/reduced   \n",
       "4    male        group C                some college      standard   \n",
       "\n",
       "  test preparation course  math score  reading score  writing score  \n",
       "0                    none          72             72             74  \n",
       "1               completed          69             90             88  \n",
       "2                    none          90             95             93  \n",
       "3                    none          47             57             44  \n",
       "4                    none          76             78             75  "
      ]
     },
     "execution_count": 12,
     "metadata": {},
     "output_type": "execute_result"
    }
   ],
   "source": [
    "#Realizamos una vista a las primera filas de los datos.\n",
    "df.head()"
   ]
  },
  {
   "cell_type": "code",
   "execution_count": 14,
   "id": "6606dad2",
   "metadata": {},
   "outputs": [
    {
     "data": {
      "text/plain": [
       "66.089"
      ]
     },
     "execution_count": 14,
     "metadata": {},
     "output_type": "execute_result"
    }
   ],
   "source": [
    "np.mean(df['math score'])"
   ]
  },
  {
   "cell_type": "code",
   "execution_count": 15,
   "id": "f2a40033",
   "metadata": {},
   "outputs": [
    {
     "data": {
      "text/plain": [
       "math score       66.089\n",
       "reading score    69.169\n",
       "writing score    68.054\n",
       "dtype: float64"
      ]
     },
     "execution_count": 15,
     "metadata": {},
     "output_type": "execute_result"
    }
   ],
   "source": [
    "np.mean(df)"
   ]
  },
  {
   "cell_type": "code",
   "execution_count": null,
   "id": "cae0c3c9",
   "metadata": {},
   "outputs": [],
   "source": [
    "#Nota: La media a veces no es un valor muy representativo porque es suceptible a valores atipicos."
   ]
  },
  {
   "cell_type": "markdown",
   "id": "8864eb33",
   "metadata": {},
   "source": [
    "## Ejemplo: \n",
    "\n",
    "\n",
    "\n",
    "En una compañía que cuenta con tres empleados, se tiene la siguiente estructura de salarios mensuales:\n",
    "\n",
    "- Dos programadores ganan cada uno $3,000.\n",
    "- Un jefe (Chief) gana $20,000.\n",
    "\n",
    "Todos los salarios están expresados en dólares. Determinar el promedio de los salarios y la mediana. Explicar como el salario se ve afectado por el valor atipico del salario del chef.\n",
    "\n"
   ]
  },
  {
   "cell_type": "code",
   "execution_count": 17,
   "id": "9e50cd9c",
   "metadata": {},
   "outputs": [],
   "source": [
    "salarios = [3000,3000,20000]"
   ]
  },
  {
   "cell_type": "code",
   "execution_count": 19,
   "id": "e92f0a87",
   "metadata": {},
   "outputs": [
    {
     "name": "stdout",
     "output_type": "stream",
     "text": [
      "8666.666666666666\n"
     ]
    }
   ],
   "source": [
    "promedio_salarios = np.mean(salarios)\n",
    "print(promedio_salarios)"
   ]
  },
  {
   "cell_type": "code",
   "execution_count": 20,
   "id": "39ace849",
   "metadata": {},
   "outputs": [],
   "source": [
    "# En este caso, el promedio no es muy representativo de los salarios."
   ]
  },
  {
   "cell_type": "code",
   "execution_count": 22,
   "id": "9930f46c",
   "metadata": {},
   "outputs": [
    {
     "data": {
      "text/plain": [
       "3000.0"
      ]
     },
     "execution_count": 22,
     "metadata": {},
     "output_type": "execute_result"
    }
   ],
   "source": [
    "# Mediana???\n",
    "\n",
    "np.median(salarios)"
   ]
  },
  {
   "cell_type": "code",
   "execution_count": 23,
   "id": "96ec6489",
   "metadata": {
    "scrolled": true
   },
   "outputs": [
    {
     "data": {
      "text/html": [
       "<div>\n",
       "<style scoped>\n",
       "    .dataframe tbody tr th:only-of-type {\n",
       "        vertical-align: middle;\n",
       "    }\n",
       "\n",
       "    .dataframe tbody tr th {\n",
       "        vertical-align: top;\n",
       "    }\n",
       "\n",
       "    .dataframe thead th {\n",
       "        text-align: right;\n",
       "    }\n",
       "</style>\n",
       "<table border=\"1\" class=\"dataframe\">\n",
       "  <thead>\n",
       "    <tr style=\"text-align: right;\">\n",
       "      <th></th>\n",
       "      <th>math score</th>\n",
       "      <th>reading score</th>\n",
       "      <th>writing score</th>\n",
       "    </tr>\n",
       "  </thead>\n",
       "  <tbody>\n",
       "    <tr>\n",
       "      <th>count</th>\n",
       "      <td>1000.00000</td>\n",
       "      <td>1000.000000</td>\n",
       "      <td>1000.000000</td>\n",
       "    </tr>\n",
       "    <tr>\n",
       "      <th>mean</th>\n",
       "      <td>66.08900</td>\n",
       "      <td>69.169000</td>\n",
       "      <td>68.054000</td>\n",
       "    </tr>\n",
       "    <tr>\n",
       "      <th>std</th>\n",
       "      <td>15.16308</td>\n",
       "      <td>14.600192</td>\n",
       "      <td>15.195657</td>\n",
       "    </tr>\n",
       "    <tr>\n",
       "      <th>min</th>\n",
       "      <td>0.00000</td>\n",
       "      <td>17.000000</td>\n",
       "      <td>10.000000</td>\n",
       "    </tr>\n",
       "    <tr>\n",
       "      <th>25%</th>\n",
       "      <td>57.00000</td>\n",
       "      <td>59.000000</td>\n",
       "      <td>57.750000</td>\n",
       "    </tr>\n",
       "    <tr>\n",
       "      <th>50%</th>\n",
       "      <td>66.00000</td>\n",
       "      <td>70.000000</td>\n",
       "      <td>69.000000</td>\n",
       "    </tr>\n",
       "    <tr>\n",
       "      <th>75%</th>\n",
       "      <td>77.00000</td>\n",
       "      <td>79.000000</td>\n",
       "      <td>79.000000</td>\n",
       "    </tr>\n",
       "    <tr>\n",
       "      <th>max</th>\n",
       "      <td>100.00000</td>\n",
       "      <td>100.000000</td>\n",
       "      <td>100.000000</td>\n",
       "    </tr>\n",
       "  </tbody>\n",
       "</table>\n",
       "</div>"
      ],
      "text/plain": [
       "       math score  reading score  writing score\n",
       "count  1000.00000    1000.000000    1000.000000\n",
       "mean     66.08900      69.169000      68.054000\n",
       "std      15.16308      14.600192      15.195657\n",
       "min       0.00000      17.000000      10.000000\n",
       "25%      57.00000      59.000000      57.750000\n",
       "50%      66.00000      70.000000      69.000000\n",
       "75%      77.00000      79.000000      79.000000\n",
       "max     100.00000     100.000000     100.000000"
      ]
     },
     "execution_count": 23,
     "metadata": {},
     "output_type": "execute_result"
    }
   ],
   "source": [
    "#Analicemos el data frame de los estudiantes\n",
    "df.describe()"
   ]
  },
  {
   "cell_type": "code",
   "execution_count": 24,
   "id": "7358efdf",
   "metadata": {},
   "outputs": [
    {
     "data": {
      "text/plain": [
       "66.089"
      ]
     },
     "execution_count": 24,
     "metadata": {},
     "output_type": "execute_result"
    }
   ],
   "source": [
    "#Calculemos la mediana y la media de la variable math score\n",
    "np.mean(df['math score'])"
   ]
  },
  {
   "cell_type": "code",
   "execution_count": 25,
   "id": "385f3404",
   "metadata": {},
   "outputs": [
    {
     "data": {
      "text/plain": [
       "66.0"
      ]
     },
     "execution_count": 25,
     "metadata": {},
     "output_type": "execute_result"
    }
   ],
   "source": [
    "np.median(df['math score'])"
   ]
  },
  {
   "cell_type": "code",
   "execution_count": 26,
   "id": "11306eba",
   "metadata": {},
   "outputs": [
    {
     "name": "stdout",
     "output_type": "stream",
     "text": [
      "69.169\n",
      "70.0\n"
     ]
    }
   ],
   "source": [
    "#Calculemos la mediana y la media de la variable reading score\n",
    "print(np.mean(df['reading score']))\n",
    "print(np.median(df['reading score']))\n"
   ]
  },
  {
   "cell_type": "code",
   "execution_count": 27,
   "id": "6e627b85",
   "metadata": {},
   "outputs": [],
   "source": [
    "#Ejemplos:\n",
    "\n",
    "lista1= [4,5,5,6,3,4,6]\n",
    "lista2= [9,2,3,5,10,8]"
   ]
  },
  {
   "cell_type": "code",
   "execution_count": 30,
   "id": "dbc1ffe0",
   "metadata": {},
   "outputs": [
    {
     "name": "stdout",
     "output_type": "stream",
     "text": [
      "4.714285714285714\n",
      "6.166666666666667\n"
     ]
    }
   ],
   "source": [
    "print(np.mean(lista1))\n",
    "print(np.mean(lista2))"
   ]
  },
  {
   "cell_type": "code",
   "execution_count": 32,
   "id": "a464f4ee",
   "metadata": {},
   "outputs": [
    {
     "name": "stdout",
     "output_type": "stream",
     "text": [
      "1.0301575072754257\n",
      "3.0230595245361758\n"
     ]
    }
   ],
   "source": [
    "print(np.std(lista1))\n",
    "print(np.std(lista2))"
   ]
  },
  {
   "cell_type": "markdown",
   "id": "622b5833",
   "metadata": {},
   "source": [
    "### Ejemplo :\n",
    "\n",
    "En un juego de baloncesto entre un grupo de 10 amigos, la escena se complica cuando Juan, un aficionado a la estadística, plantea su descontento respecto a la conformación de los equipos. Con un ojo agudo para los números, argumenta que el promedio de estatura en uno de los equipos supera al del otro. Enfrentados a este dilema, el reto consiste en calcular de manera meticulosa el promedio de estatura tanto del grupo completo como de cada uno de los equipos por separado. A partir de los datos proporcionados, calcular el promedio de estatura de todos los integrantes y de cada uno de los equipos con el fin de confirmar o refutar la hipótesis de Juan.\n",
    "\n",
    "Equipo 1: 170, 165, 178, 160, 175\n",
    "\n",
    "Equipo 2: 175, 179, 168, 178, 163\n"
   ]
  },
  {
   "cell_type": "code",
   "execution_count": 35,
   "id": "5332ce99",
   "metadata": {},
   "outputs": [],
   "source": [
    "import numpy as np\n",
    "\n",
    "\n",
    "equipo1 = [170, 165, 178, 160, 175]\n",
    "equipo2 = [175, 179, 168, 178, 163]\n",
    "\n",
    "np.mean()"
   ]
  },
  {
   "cell_type": "markdown",
   "id": "b2a1e3b0",
   "metadata": {},
   "source": [
    "### Ejemplo 2:\n",
    "\n",
    "Usted ha sido designado para desarrollar una aplicación móvil que rastree el tiempo dedicado al ejercicio por parte de un usuario. Los datos registrados de un usuario, que reflejan la cantidad de minutos que ha empleado la aplicación cada día durante un período de 10 días, se presentan a continuación:\n",
    "\n",
    "91, 76, 80, 113, 110, 80, 76, 85, 89, 93\n",
    "\n",
    "Calcular la mediana de los datos.\n"
   ]
  },
  {
   "cell_type": "code",
   "execution_count": 36,
   "id": "7bdaf56c",
   "metadata": {},
   "outputs": [
    {
     "data": {
      "text/plain": [
       "87.0"
      ]
     },
     "execution_count": 36,
     "metadata": {},
     "output_type": "execute_result"
    }
   ],
   "source": [
    "times =[91, 76, 80, 113, 110, 80, 76, 85, 89, 93]\n",
    "np.median(times)"
   ]
  },
  {
   "cell_type": "code",
   "execution_count": 37,
   "id": "e5b7389e",
   "metadata": {},
   "outputs": [
    {
     "data": {
      "text/plain": [
       "89.3"
      ]
     },
     "execution_count": 37,
     "metadata": {},
     "output_type": "execute_result"
    }
   ],
   "source": [
    "np.mean(times)"
   ]
  },
  {
   "cell_type": "code",
   "execution_count": 38,
   "id": "87e6306a",
   "metadata": {},
   "outputs": [
    {
     "data": {
      "text/plain": [
       "12.458330546265016"
      ]
     },
     "execution_count": 38,
     "metadata": {},
     "output_type": "execute_result"
    }
   ],
   "source": [
    "np.std(times)"
   ]
  },
  {
   "cell_type": "code",
   "execution_count": 42,
   "id": "51d5d99b",
   "metadata": {},
   "outputs": [
    {
     "data": {
      "text/plain": [
       "array([ 76,  76,  80,  80,  85,  89,  91,  93, 110, 113])"
      ]
     },
     "execution_count": 42,
     "metadata": {},
     "output_type": "execute_result"
    }
   ],
   "source": [
    "np.sort(times)\n"
   ]
  },
  {
   "cell_type": "code",
   "execution_count": 43,
   "id": "a3e66cb9",
   "metadata": {},
   "outputs": [
    {
     "data": {
      "text/plain": [
       "89.3"
      ]
     },
     "execution_count": 43,
     "metadata": {},
     "output_type": "execute_result"
    }
   ],
   "source": [
    "np.mean(times)"
   ]
  },
  {
   "cell_type": "code",
   "execution_count": 47,
   "id": "03a1b381",
   "metadata": {},
   "outputs": [
    {
     "data": {
      "text/plain": [
       "array([  0.,  59., 100.])"
      ]
     },
     "execution_count": 47,
     "metadata": {},
     "output_type": "execute_result"
    }
   ],
   "source": [
    "# Cuartiles:# Calcula los cuartiles de math score\n",
    "\n",
    "np.quantile(df['math score'],[0,0.3,1])"
   ]
  },
  {
   "cell_type": "code",
   "execution_count": 49,
   "id": "5f87fbe7",
   "metadata": {},
   "outputs": [
    {
     "data": {
      "text/plain": [
       "array([ 17.,  59.,  70.,  79., 100.])"
      ]
     },
     "execution_count": 49,
     "metadata": {},
     "output_type": "execute_result"
    }
   ],
   "source": [
    "# Cuartiles:# Calcula los cuartiles de reading score\n",
    "\n",
    "np.quantile(df['reading score'],[0,0.25,0.5,0.75,1])"
   ]
  },
  {
   "cell_type": "code",
   "execution_count": null,
   "id": "2d5684b3",
   "metadata": {},
   "outputs": [],
   "source": []
  }
 ],
 "metadata": {
  "kernelspec": {
   "display_name": "Python 3 (ipykernel)",
   "language": "python",
   "name": "python3"
  },
  "language_info": {
   "codemirror_mode": {
    "name": "ipython",
    "version": 3
   },
   "file_extension": ".py",
   "mimetype": "text/x-python",
   "name": "python",
   "nbconvert_exporter": "python",
   "pygments_lexer": "ipython3",
   "version": "3.9.12"
  }
 },
 "nbformat": 4,
 "nbformat_minor": 5
}
